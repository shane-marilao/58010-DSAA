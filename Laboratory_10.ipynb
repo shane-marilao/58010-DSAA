{
  "nbformat": 4,
  "nbformat_minor": 0,
  "metadata": {
    "colab": {
      "provenance": [],
      "authorship_tag": "ABX9TyN65aHmfBXrjbfzRPdNVgRe",
      "include_colab_link": true
    },
    "kernelspec": {
      "name": "python3",
      "display_name": "Python 3"
    },
    "language_info": {
      "name": "python"
    }
  },
  "cells": [
    {
      "cell_type": "markdown",
      "metadata": {
        "id": "view-in-github",
        "colab_type": "text"
      },
      "source": [
        "<a href=\"https://colab.research.google.com/github/shane-marilao/58010-DSAA/blob/main/Laboratory_10.ipynb\" target=\"_parent\"><img src=\"https://colab.research.google.com/assets/colab-badge.svg\" alt=\"Open In Colab\"/></a>"
      ]
    },
    {
      "cell_type": "code",
      "source": [
        "class TreeNode:\n",
        "    def __init__(self, data):\n",
        "        self.data = data\n",
        "        self.left = None\n",
        "        self.right = None\n",
        "        self.pre_order = None\n",
        "        self.in_order = None\n",
        "        self.post_order = None\n",
        "\n",
        "class NumberedBinaryTree:\n",
        "    def __init__(self):\n",
        "        self.root = None\n",
        "        self.pre_order_counter = 1\n",
        "        self.in_order_counter = 1\n",
        "        self.post_order_counter = 1\n",
        "\n",
        "    def preOrderNumber(self, node):\n",
        "        if node is not None:\n",
        "            node.pre_order = self.pre_order_counter\n",
        "            self.pre_order_counter += 1\n",
        "            self.preOrderNumber(node.left)\n",
        "            self.preOrderNumber(node.right)\n",
        "\n",
        "    def inOrderNumber(self, node):\n",
        "        if node is not None:\n",
        "            self.inOrderNumber(node.left)\n",
        "            node.in_order = self.in_order_counter\n",
        "            self.in_order_counter += 1\n",
        "            self.inOrderNumber(node.right)\n",
        "\n",
        "    def postOrderNumber(self, node):\n",
        "        if node is not None:\n",
        "            self.postOrderNumber(node.left)\n",
        "            self.postOrderNumber(node.right)\n",
        "            node.post_order = self.post_order_counter\n",
        "            self.post_order_counter += 1\n",
        "\n",
        "root = TreeNode(1)\n",
        "root.left = TreeNode(2)\n",
        "root.right = TreeNode(3)\n",
        "root.left.left = TreeNode(4)\n",
        "root.left.right = TreeNode(5)\n",
        "root.right.left = TreeNode(6)\n",
        "root.right.right = TreeNode(7)\n",
        "\n",
        "numbered_tree = NumberedBinaryTree()\n",
        "numbered_tree.root = root\n",
        "\n",
        "numbered_tree.preOrderNumber(root)\n",
        "numbered_tree.inOrderNumber(root)\n",
        "numbered_tree.postOrderNumber(root)\n",
        "\n",
        "print(\"Pre-order numbers:\", [node.pre_order for node in [root, root.left, root.right, root.left.left, root.left.right, root.right.left, root.right.right]])\n",
        "print(\"In-order numbers:\", [node.in_order for node in [root.left.left, root.left, root.left.right, root, root.right.left, root.right, root.right.right]])\n",
        "print(\"Post-order numbers:\", [node.post_order for node in [root.left.left, root.left.right, root.left, root.right.left, root.right.right, root.right, root]])\n"
      ],
      "metadata": {
        "colab": {
          "base_uri": "https://localhost:8080/"
        },
        "id": "E1srkcQahL2O",
        "outputId": "ad85ae5c-95f6-4ea1-d952-25e0148eabc5"
      },
      "execution_count": 2,
      "outputs": [
        {
          "output_type": "stream",
          "name": "stdout",
          "text": [
            "Pre-order numbers: [1, 2, 5, 3, 4, 6, 7]\n",
            "In-order numbers: [1, 2, 3, 4, 5, 6, 7]\n",
            "Post-order numbers: [1, 2, 3, 4, 5, 6, 7]\n"
          ]
        }
      ]
    }
  ]
}