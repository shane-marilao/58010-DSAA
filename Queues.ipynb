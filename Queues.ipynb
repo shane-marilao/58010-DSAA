{
  "nbformat": 4,
  "nbformat_minor": 0,
  "metadata": {
    "colab": {
      "provenance": [],
      "include_colab_link": true
    },
    "kernelspec": {
      "name": "python3",
      "display_name": "Python 3"
    },
    "language_info": {
      "name": "python"
    }
  },
  "cells": [
    {
      "cell_type": "markdown",
      "metadata": {
        "id": "view-in-github",
        "colab_type": "text"
      },
      "source": [
        "<a href=\"https://colab.research.google.com/github/shane-marilao/58010-DSAA/blob/main/Queues.ipynb\" target=\"_parent\"><img src=\"https://colab.research.google.com/assets/colab-badge.svg\" alt=\"Open In Colab\"/></a>"
      ]
    },
    {
      "cell_type": "code",
      "execution_count": null,
      "metadata": {
        "colab": {
          "base_uri": "https://localhost:8080/"
        },
        "id": "gCHk0Y0xK5Nl",
        "outputId": "d0ac41cd-4fc2-4c8b-8280-cb2588f4e3f5"
      },
      "outputs": [
        {
          "output_type": "stream",
          "name": "stdout",
          "text": [
            "['A', 'B', 'C']\n",
            "[]\n"
          ]
        }
      ],
      "source": [
        "queue = []\n",
        "#insert element in the queue, enqueue\n",
        "queue.append('A')\n",
        "queue.append('B')\n",
        "queue.append('C')\n",
        "print(queue)\n",
        "\n",
        "#removing element in the queue, dequeue\n",
        "queue.pop(0)\n",
        "queue.pop(0)\n",
        "queue.pop(0)\n",
        "print(queue)"
      ]
    }
  ]
}