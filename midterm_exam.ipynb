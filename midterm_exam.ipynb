{
  "nbformat": 4,
  "nbformat_minor": 0,
  "metadata": {
    "colab": {
      "provenance": [],
      "authorship_tag": "ABX9TyM0zCo2/3ED3BO2LAp+i64u",
      "include_colab_link": true
    },
    "kernelspec": {
      "name": "python3",
      "display_name": "Python 3"
    },
    "language_info": {
      "name": "python"
    }
  },
  "cells": [
    {
      "cell_type": "markdown",
      "metadata": {
        "id": "view-in-github",
        "colab_type": "text"
      },
      "source": [
        "<a href=\"https://colab.research.google.com/github/shane-marilao/58010-DSAA/blob/main/midterm_exam.ipynb\" target=\"_parent\"><img src=\"https://colab.research.google.com/assets/colab-badge.svg\" alt=\"Open In Colab\"/></a>"
      ]
    },
    {
      "cell_type": "markdown",
      "source": [
        "Question 13"
      ],
      "metadata": {
        "id": "Bf9r9JDJYMpG"
      }
    },
    {
      "cell_type": "code",
      "source": [
        "class Graph:\n",
        "    def __init__(self):\n",
        "        self.graph = {}\n",
        "\n",
        "    def add_vertex(self, vertex):\n",
        "        if vertex not in self.graph:\n",
        "            self.graph[vertex] = []\n",
        "\n",
        "    def add_edge(self, vertex1, vertex2):\n",
        "        if vertex1 in self.graph and vertex2 in self.graph:\n",
        "            self.graph[vertex1].append(vertex2)\n",
        "            self.graph[vertex2].append(vertex1)\n",
        "        else:\n",
        "            print(\"One or more vertices not found in the graph.\")\n",
        "\n",
        "    def display_graph(self):\n",
        "        for vertex in self.graph:\n",
        "            print(f\"{vertex}: {', '.join(map(str, self.graph[vertex]))}\")\n",
        "\n",
        "\n",
        "if __name__ == \"__main__\":\n",
        "    graph = Graph()\n",
        "\n",
        "    graph.add_vertex(\"A\")\n",
        "    graph.add_vertex(\"B\")\n",
        "    graph.add_vertex(\"C\")\n",
        "    graph.add_vertex(\"D\")\n",
        "    graph.add_vertex(\"E\")\n",
        "    graph.add_vertex(\"F\")\n",
        "    graph.add_vertex(\"L\")\n",
        "    graph.add_vertex(\"K\")\n",
        "\n",
        "    graph.add_edge(\"N\", \"O\")\n",
        "    graph.add_edge(\"P\", \"M\")\n",
        "    graph.add_edge(\"G\", \"J\")\n",
        "\n",
        "    graph.display_graph()\n"
      ],
      "metadata": {
        "colab": {
          "base_uri": "https://localhost:8080/"
        },
        "outputId": "2f47a2a3-6627-4bb6-9805-10f131a94c65",
        "id": "iQHWsQIvYwQg"
      },
      "execution_count": 7,
      "outputs": [
        {
          "output_type": "stream",
          "name": "stdout",
          "text": [
            "One or more vertices not found in the graph.\n",
            "One or more vertices not found in the graph.\n",
            "One or more vertices not found in the graph.\n",
            "A: \n",
            "B: \n",
            "C: \n",
            "D: \n",
            "E: \n",
            "F: \n",
            "L: \n",
            "K: \n"
          ]
        }
      ]
    }
  ]
}