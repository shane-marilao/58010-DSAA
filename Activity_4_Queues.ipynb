{
  "nbformat": 4,
  "nbformat_minor": 0,
  "metadata": {
    "colab": {
      "provenance": [],
      "include_colab_link": true
    },
    "kernelspec": {
      "name": "python3",
      "display_name": "Python 3"
    },
    "language_info": {
      "name": "python"
    }
  },
  "cells": [
    {
      "cell_type": "markdown",
      "metadata": {
        "id": "view-in-github",
        "colab_type": "text"
      },
      "source": [
        "<a href=\"https://colab.research.google.com/github/shane-marilao/58010-DSAA/blob/main/Activity_4_Queues.ipynb\" target=\"_parent\"><img src=\"https://colab.research.google.com/assets/colab-badge.svg\" alt=\"Open In Colab\"/></a>"
      ]
    },
    {
      "cell_type": "code",
      "execution_count": null,
      "metadata": {
        "colab": {
          "base_uri": "https://localhost:8080/"
        },
        "id": "6uOMpzyWNt72",
        "outputId": "027005bb-e9f2-47ae-f0b8-56bdd6ce5785"
      },
      "outputs": [
        {
          "output_type": "stream",
          "name": "stdout",
          "text": [
            "Dequeued: 2\n",
            "Dequeued: 4\n",
            "Dequeued: 6\n",
            "Dequeued: 8\n",
            "Dequeued: 10\n",
            "Dequeued: 12\n",
            "Dequeued: 14\n",
            "Dequeued: 16\n",
            "Dequeued: 18\n",
            "Dequeued: 20\n",
            "Dequeued: 22\n",
            "Dequeued: 24\n",
            "Dequeued: 26\n",
            "Dequeued: 28\n",
            "Dequeued: 30\n",
            "Dequeued: 32\n",
            "Dequeued: 34\n",
            "Dequeued: 36\n",
            "Dequeued: 38\n",
            "Dequeued: 40\n",
            "Dequeued: 42\n",
            "Dequeued: 44\n",
            "Dequeued: 46\n",
            "Dequeued: 48\n",
            "Dequeued: 50\n"
          ]
        }
      ],
      "source": [
        "import queue\n",
        "\n",
        "# Create a queue to enqueue and dequeue integers.\n",
        "integer_queue = queue.Queue()\n",
        "\n",
        "# Traverse integers from 1 to 50.\n",
        "for i in range(1, 51):\n",
        "    if i % 2 == 0:\n",
        "        integer_queue.put(i)\n",
        "\n",
        "while not integer_queue.empty():\n",
        "    item = integer_queue.get()\n",
        "    print(\"Dequeued:\", item)\n"
      ]
    }
  ]
}