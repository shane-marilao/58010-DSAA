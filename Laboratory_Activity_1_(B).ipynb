{
  "nbformat": 4,
  "nbformat_minor": 0,
  "metadata": {
    "colab": {
      "provenance": [],
      "authorship_tag": "ABX9TyPaLT/0n83qixBAtIQiCVKK",
      "include_colab_link": true
    },
    "kernelspec": {
      "name": "python3",
      "display_name": "Python 3"
    },
    "language_info": {
      "name": "python"
    }
  },
  "cells": [
    {
      "cell_type": "markdown",
      "metadata": {
        "id": "view-in-github",
        "colab_type": "text"
      },
      "source": [
        "<a href=\"https://colab.research.google.com/github/shane-marilao/58010-DSAA/blob/main/Laboratory_Activity_1_(B).ipynb\" target=\"_parent\"><img src=\"https://colab.research.google.com/assets/colab-badge.svg\" alt=\"Open In Colab\"/></a>"
      ]
    },
    {
      "cell_type": "code",
      "execution_count": 2,
      "metadata": {
        "colab": {
          "base_uri": "https://localhost:8080/"
        },
        "id": "fhxqf6LBEv7L",
        "outputId": "02d7d1b8-ed64-4ace-b833-15391b2154af"
      },
      "outputs": [
        {
          "output_type": "stream",
          "name": "stdout",
          "text": [
            "Polygon name: Triangle\n",
            "Number of sides: 3\n",
            "Area: 6.0\n",
            "Updated polygon name: Square\n",
            "Updated number of sides: 4\n",
            "Updated area: 16.0\n"
          ]
        }
      ],
      "source": [
        "class Polygons:\n",
        "    def __init__(self, name: str, sides: int, area: float):\n",
        "        self.name = name\n",
        "        self.sides = sides\n",
        "        self.area = area\n",
        "\n",
        "    def set_name(self, name: str):\n",
        "        self.name = name\n",
        "\n",
        "    def set_sides(self, sides: int):\n",
        "        self.sides = sides\n",
        "\n",
        "    def set_area(self, area: float):\n",
        "        self.area = area\n",
        "\n",
        "    def get_name(self):\n",
        "        return self.name\n",
        "\n",
        "    def get_sides(self):\n",
        "        return self.sides\n",
        "\n",
        "    def get_area(self):\n",
        "        return self.area\n",
        "\n",
        "\n",
        "polygon = Polygons(\"Triangle\", 3, 6.0)\n",
        "print(f\"Polygon name: {polygon.get_name()}\")\n",
        "print(f\"Number of sides: {polygon.get_sides()}\")\n",
        "print(f\"Area: {polygon.get_area()}\")\n",
        "\n",
        "\n",
        "polygon.set_name(\"Square\")\n",
        "polygon.set_sides(4)\n",
        "polygon.set_area(16.0)\n",
        "\n",
        "print(f\"Updated polygon name: {polygon.get_name()}\")\n",
        "print(f\"Updated number of sides: {polygon.get_sides()}\")\n",
        "print(f\"Updated area: {polygon.get_area()}\")\n"
      ]
    }
  ]
}