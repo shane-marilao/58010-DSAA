{
  "nbformat": 4,
  "nbformat_minor": 0,
  "metadata": {
    "colab": {
      "provenance": [],
      "include_colab_link": true
    },
    "kernelspec": {
      "name": "python3",
      "display_name": "Python 3"
    },
    "language_info": {
      "name": "python"
    }
  },
  "cells": [
    {
      "cell_type": "markdown",
      "metadata": {
        "id": "view-in-github",
        "colab_type": "text"
      },
      "source": [
        "<a href=\"https://colab.research.google.com/github/shane-marilao/58010-DSAA/blob/main/Activity_7.ipynb\" target=\"_parent\"><img src=\"https://colab.research.google.com/assets/colab-badge.svg\" alt=\"Open In Colab\"/></a>"
      ]
    },
    {
      "cell_type": "markdown",
      "source": [],
      "metadata": {
        "id": "-RFspP5Tn9dp"
      }
    },
    {
      "cell_type": "code",
      "source": [
        "#Display Graph Edges\n",
        "\n",
        "class graph:\n",
        "   def __init__(self,gdict=None):\n",
        "      if gdict is None:\n",
        "         gdict = {}\n",
        "      self.gdict = gdict\n",
        "\n",
        "   def edges(self):\n",
        "      return self.findedges()\n",
        "# Find the distinct list of edges\n",
        "   def findedges(self):\n",
        "      edgename = []\n",
        "      for vrtx in self.gdict:\n",
        "         for nxtvrtx in self.gdict[vrtx]:\n",
        "            if {nxtvrtx, vrtx} not in edgename:\n",
        "               edgename.append({vrtx, nxtvrtx})\n",
        "      return edgename\n",
        "# Create the dictionary with graph elements\n",
        "graph_elements = {\n",
        "   \"q\" : [\"t\",\"s\",\"w\"],\n",
        "   \"w\" : [\"s\",\"v\"],\n",
        "   \"x\" : [\"y\",\"z\"],\n",
        "   \"s\" : [\"w\",\"v\"],\n",
        "   \"t\" : [\"x\", \"y\"],\n",
        "   \"r\" : [\"u\",\"y\"],\n",
        "   \"z\" : [\"x\",],\n",
        "   \"y\" : [\"u\", \"x\",\"q\"],\n",
        "}\n",
        "g = graph(graph_elements)\n",
        "print(g.edges())"
      ],
      "metadata": {
        "colab": {
          "base_uri": "https://localhost:8080/"
        },
        "id": "dnIhJ4tnn9mB",
        "outputId": "da381bc5-e9ee-4504-bf55-8636b41f788c"
      },
      "execution_count": null,
      "outputs": [
        {
          "output_type": "stream",
          "name": "stdout",
          "text": [
            "[{'t', 'q'}, {'s', 'q'}, {'w', 'q'}, {'w', 's'}, {'v', 'w'}, {'y', 'x'}, {'z', 'x'}, {'v', 's'}, {'t', 'x'}, {'t', 'y'}, {'r', 'u'}, {'y', 'r'}, {'y', 'u'}, {'y', 'q'}]\n"
          ]
        }
      ]
    }
  ]
}