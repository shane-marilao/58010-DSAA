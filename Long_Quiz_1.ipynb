{
  "nbformat": 4,
  "nbformat_minor": 0,
  "metadata": {
    "colab": {
      "provenance": [],
      "authorship_tag": "ABX9TyM+UoCdeAwrJviSPEM0tzIQ",
      "include_colab_link": true
    },
    "kernelspec": {
      "name": "python3",
      "display_name": "Python 3"
    },
    "language_info": {
      "name": "python"
    }
  },
  "cells": [
    {
      "cell_type": "markdown",
      "metadata": {
        "id": "view-in-github",
        "colab_type": "text"
      },
      "source": [
        "<a href=\"https://colab.research.google.com/github/shane-marilao/58010-DSAA/blob/main/Long_Quiz_1.ipynb\" target=\"_parent\"><img src=\"https://colab.research.google.com/assets/colab-badge.svg\" alt=\"Open In Colab\"/></a>"
      ]
    },
    {
      "cell_type": "markdown",
      "source": [
        "1. Create a python or C++ program that appends each character of your full name and displays each character in reverse order\n"
      ],
      "metadata": {
        "id": "NrnZ3yjULHNj"
      }
    },
    {
      "cell_type": "code",
      "source": [
        "full_name = input(\"Enter your full name: \")\n",
        "\n",
        "characters = []\n",
        "\n",
        "for char in full_name:\n",
        "    characters.append(char)\n",
        "\n",
        "print(\"Characters in reverse order:\")\n",
        "for char in reversed(characters):\n",
        "    print(char)\n"
      ],
      "metadata": {
        "colab": {
          "base_uri": "https://localhost:8080/"
        },
        "id": "vjoSyNYJKogS",
        "outputId": "19ef001e-f10e-4916-8430-42fb93d358be"
      },
      "execution_count": 7,
      "outputs": [
        {
          "output_type": "stream",
          "name": "stdout",
          "text": [
            "Enter your full name: Mary Shane Hije Marilao\n",
            "Characters in reverse order:\n",
            "o\n",
            "a\n",
            "l\n",
            "i\n",
            "r\n",
            "a\n",
            "M\n",
            " \n",
            "e\n",
            "j\n",
            "i\n",
            "H\n",
            " \n",
            "e\n",
            "n\n",
            "a\n",
            "h\n",
            "S\n",
            " \n",
            "y\n",
            "r\n",
            "a\n",
            "M\n"
          ]
        }
      ]
    },
    {
      "cell_type": "markdown",
      "source": [
        "2. Using the set of positive whole numbers from 1 to 10, create a python or C++ program that displays if it is prime or composite"
      ],
      "metadata": {
        "id": "oNKS7d2gLPfC"
      }
    },
    {
      "cell_type": "code",
      "source": [
        "def is_prime(n):\n",
        "    if n <= 1:\n",
        "        return False\n",
        "    if n <= 3:\n",
        "        return True\n",
        "    if n % 2 == 0 or n % 3 == 0:\n",
        "        return False\n",
        "    for i in range(5, int(n**0.5) + 1, 6):\n",
        "        if n % i == 0 or n % (i + 2) == 0:\n",
        "            return False\n",
        "    return True\n",
        "\n",
        "def classify_number(number):\n",
        "    return \"prime\" if is_prime(number) else \"composite\"\n",
        "\n",
        "numbers = list(range(1, 11))\n",
        "\n",
        "for num in numbers:\n",
        "    classification = classify_number(num)\n",
        "    print(f\"{num} is {classification}.\")\n"
      ],
      "metadata": {
        "colab": {
          "base_uri": "https://localhost:8080/"
        },
        "id": "B0i8dppLN7mx",
        "outputId": "0c33a225-9d33-42c9-aaf2-fe69da969b69"
      },
      "execution_count": 9,
      "outputs": [
        {
          "output_type": "stream",
          "name": "stdout",
          "text": [
            "1 is composite.\n",
            "2 is prime.\n",
            "3 is prime.\n",
            "4 is composite.\n",
            "5 is prime.\n",
            "6 is composite.\n",
            "7 is prime.\n",
            "8 is composite.\n",
            "9 is composite.\n",
            "10 is composite.\n"
          ]
        }
      ]
    }
  ]
}