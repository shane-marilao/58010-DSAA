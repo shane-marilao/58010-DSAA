{
  "nbformat": 4,
  "nbformat_minor": 0,
  "metadata": {
    "colab": {
      "provenance": [],
      "authorship_tag": "ABX9TyMpaSbUBEpQYKvpwBfFmjub",
      "include_colab_link": true
    },
    "kernelspec": {
      "name": "python3",
      "display_name": "Python 3"
    },
    "language_info": {
      "name": "python"
    }
  },
  "cells": [
    {
      "cell_type": "markdown",
      "metadata": {
        "id": "view-in-github",
        "colab_type": "text"
      },
      "source": [
        "<a href=\"https://colab.research.google.com/github/shane-marilao/58010-DSAA/blob/main/Prelim_Exam.ipynb\" target=\"_parent\"><img src=\"https://colab.research.google.com/assets/colab-badge.svg\" alt=\"Open In Colab\"/></a>"
      ]
    },
    {
      "cell_type": "markdown",
      "source": [
        "Create a source code for adding the test scores 26, 49, 98, 87, 62, 75"
      ],
      "metadata": {
        "id": "MZ5t3pXuVtN1"
      }
    },
    {
      "cell_type": "code",
      "source": [
        "# Test scores\n",
        "scores = [26, 49, 98, 87, 62, 75]\n",
        "\n",
        "# Calculate the sum of test scores\n",
        "total_score = sum(scores)\n",
        "\n",
        "# Print the result\n",
        "print(\"The sum of the test scores is:\", total_score)\n"
      ],
      "metadata": {
        "colab": {
          "base_uri": "https://localhost:8080/"
        },
        "id": "6tQ5fFB4VSmt",
        "outputId": "227672ab-b2cd-4642-dfdb-74274b54a9ab"
      },
      "execution_count": 1,
      "outputs": [
        {
          "output_type": "stream",
          "name": "stdout",
          "text": [
            "The sum of the test scores is: 397\n"
          ]
        }
      ]
    },
    {
      "cell_type": "markdown",
      "source": [
        "Create a program to sort the test scores in ascending order"
      ],
      "metadata": {
        "id": "eJbpMPXlWH2u"
      }
    },
    {
      "cell_type": "code",
      "source": [
        "# Test scores\n",
        "scores = [26, 49, 98, 87, 62, 75]\n",
        "\n",
        "# Sort the test scores in ascending order in-place\n",
        "scores.sort()\n",
        "\n",
        "# Print the sorted scores\n",
        "print(\"Test scores in ascending order:\", scores)\n"
      ],
      "metadata": {
        "colab": {
          "base_uri": "https://localhost:8080/"
        },
        "id": "zFEwyNv4Vk_G",
        "outputId": "9b1c4c18-a3c9-424c-c36a-52da2b0cec7e"
      },
      "execution_count": 2,
      "outputs": [
        {
          "output_type": "stream",
          "name": "stdout",
          "text": [
            "Test scores in ascending order: [26, 49, 62, 75, 87, 98]\n"
          ]
        }
      ]
    }
  ]
}