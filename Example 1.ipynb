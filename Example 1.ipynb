{
  "nbformat": 4,
  "nbformat_minor": 0,
  "metadata": {
    "colab": {
      "provenance": [],
      "include_colab_link": true
    },
    "kernelspec": {
      "name": "python3",
      "display_name": "Python 3"
    },
    "language_info": {
      "name": "python"
    }
  },
  "cells": [
    {
      "cell_type": "markdown",
      "metadata": {
        "id": "view-in-github",
        "colab_type": "text"
      },
      "source": [
        "<a href=\"https://colab.research.google.com/github/shane-marilao/58010-DSAA/blob/main/Example%201.ipynb\" target=\"_parent\"><img src=\"https://colab.research.google.com/assets/colab-badge.svg\" alt=\"Open In Colab\"/></a>"
      ]
    },
    {
      "cell_type": "markdown",
      "source": [
        "Solve for the area of a Rectangle."
      ],
      "metadata": {
        "id": "525YcxjmC3sa"
      }
    },
    {
      "cell_type": "code",
      "execution_count": null,
      "metadata": {
        "colab": {
          "base_uri": "https://localhost:8080/"
        },
        "id": "aotmqhH_B1fe",
        "outputId": "84f2e19b-8142-4102-fe89-27ed5183800f"
      },
      "outputs": [
        {
          "output_type": "stream",
          "name": "stdout",
          "text": [
            "Enter the length of the rectangle: 20\n",
            "Enter the width of the rectangle: 10\n",
            "The area of the rectangle is: 200.0\n"
          ]
        }
      ],
      "source": [
        "def rectangle_area(length, width):\n",
        "    area = length * width\n",
        "    return area\n",
        "\n",
        "length = float(input(\"Enter the length of the rectangle: \"))\n",
        "width = float(input(\"Enter the width of the rectangle: \"))\n",
        "\n",
        "area = rectangle_area(length, width)\n",
        "\n",
        "print(\"The area of the rectangle is:\", area)\n"
      ]
    }
  ]
}